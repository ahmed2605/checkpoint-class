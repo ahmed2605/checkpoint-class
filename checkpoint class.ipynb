{
 "cells": [
  {
   "cell_type": "code",
   "execution_count": 7,
   "id": "9218788e",
   "metadata": {},
   "outputs": [
    {
     "name": "stdout",
     "output_type": "stream",
     "text": [
      "(1, 2, 3)\n"
     ]
    }
   ],
   "source": [
    "class Point3D(object):\n",
    "    def __init__(self, x, y, z):\n",
    "        self.x = x\n",
    "        self.y = y\n",
    "        self.z = z\n",
    "    def __repr__(self):\n",
    "        return \"(%d, %d, %d)\" % (self.x, self.y, self.z)\n",
    "        \n",
    "my_point = Point3D(1,2,3)\n",
    "print (my_point)\n",
    "\n"
   ]
  },
  {
   "cell_type": "code",
   "execution_count": 13,
   "id": "f11c864a",
   "metadata": {},
   "outputs": [
    {
     "name": "stdout",
     "output_type": "stream",
     "text": [
      "12\n",
      "14\n"
     ]
    }
   ],
   "source": [
    "class Rectangle :\n",
    "    def __init__(self, length, width):\n",
    "        self.length = length\n",
    "        self.width = width\n",
    "    def rectangle_area(self):\n",
    "        return self.length*self.width\n",
    "    def rectangle_perimeter(self):\n",
    "        return (self.length+self.width)*2\n",
    "newRectangle = Rectangle(3,4)\n",
    "print(newRectangle.rectangle_area())\n",
    "print(newRectangle.rectangle_perimeter())"
   ]
  },
  {
   "cell_type": "code",
   "execution_count": 30,
   "id": "b0fd2b4d",
   "metadata": {},
   "outputs": [
    {
     "name": "stdout",
     "output_type": "stream",
     "text": [
      "<bound method Circle.circle_area of <__main__.Circle object at 0x1127baa00>>\n",
      "<bound method Circle.circle_perimeter of <__main__.Circle object at 0x1127baa00>>\n",
      "<bound method Circle.isinside of <__main__.Circle object at 0x1127baa00>>\n"
     ]
    }
   ],
   "source": [
    "class Circle:\n",
    "    def __init__(self, x, y, center_x, center_y, r):\n",
    "        self.x = x\n",
    "        self.y = y\n",
    "        self.center_x = center_x\n",
    "        self.center_y = center_y\n",
    "        self.r = r\n",
    "    def circle_area(self):\n",
    "        return self.r**2*3,14\n",
    "    def circle_perimeter(self):\n",
    "        return self.r*2*3,14\n",
    "    def isinside(self):\n",
    "        if (self.x - self.center_x)**2 + (self.y - self.center_y)**2 < self.r**2: \n",
    "            #(x - center_x)^2 + (y - center_y)^2 < radius^2 \n",
    "            print(\"point is inside\")\n",
    "        else :\n",
    "            print(\"point is outside\")\n",
    "new_circle = Circle(1, 2, 0, 0, 5)\n",
    "print(new_circle.circle_area)\n",
    "print(new_circle.circle_perimeter)\n",
    "print(new_circle.isinside)"
   ]
  },
  {
   "cell_type": "code",
   "execution_count": 33,
   "id": "46de2bb0",
   "metadata": {},
   "outputs": [],
   "source": [
    "class Bank_Account:\n",
    "    def __init__(self):\n",
    "        self.balance=0\n",
    "    def deposit(self):\n",
    "        amount=float(input())\n",
    "        self.balance += amount\n",
    "        print(\"Amount Deposited: \",amount)\n",
    "    def withdraw(self):\n",
    "        amount = float(input())\n",
    "        if self.balance>=amount:\n",
    "            self.balance-=amount\n",
    "            print(\"You withdraw: \",amount)\n",
    "        else:\n",
    "            print(\"Insufficient balance \")\n",
    "       "
   ]
  },
  {
   "cell_type": "code",
   "execution_count": null,
   "id": "ce983f77",
   "metadata": {},
   "outputs": [],
   "source": []
  }
 ],
 "metadata": {
  "kernelspec": {
   "display_name": "Python 3",
   "language": "python",
   "name": "python3"
  },
  "language_info": {
   "codemirror_mode": {
    "name": "ipython",
    "version": 3
   },
   "file_extension": ".py",
   "mimetype": "text/x-python",
   "name": "python",
   "nbconvert_exporter": "python",
   "pygments_lexer": "ipython3",
   "version": "3.8.8"
  }
 },
 "nbformat": 4,
 "nbformat_minor": 5
}
